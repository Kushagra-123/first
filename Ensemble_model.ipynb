{
  "nbformat": 4,
  "nbformat_minor": 0,
  "metadata": {
    "colab": {
      "name": "Ensemble_model.ipynb",
      "provenance": [],
      "collapsed_sections": []
    },
    "kernelspec": {
      "name": "python3",
      "display_name": "Python 3"
    },
    "language_info": {
      "name": "python"
    }
  },
  "cells": [
    {
      "cell_type": "code",
      "metadata": {
        "id": "oGtI7uyhRw-U"
      },
      "source": [
        "import pandas as pd\n",
        "import numpy as np"
      ],
      "execution_count": null,
      "outputs": []
    },
    {
      "cell_type": "code",
      "metadata": {
        "id": "4S0-nYYbR5q0"
      },
      "source": [
        "import seaborn as sns\n",
        "import matplotlib.pyplot as plt\n",
        "%matplotlib inline"
      ],
      "execution_count": null,
      "outputs": []
    },
    {
      "cell_type": "code",
      "metadata": {
        "colab": {
          "base_uri": "https://localhost:8080/"
        },
        "id": "LnGDwQd2SEdw",
        "outputId": "e53e0e72-00ca-4208-a68b-f51c5ba7c31f"
      },
      "source": [
        "df = pd.read_csv(r'/content/Ensemble.csv - Ensemble.csv.csv')\n",
        "print(df)"
      ],
      "execution_count": null,
      "outputs": [
        {
          "output_type": "stream",
          "text": [
            "    Height (in cms)  Weight (in kgs) T Shirt Size\n",
            "0             158.0             58.0            M\n",
            "1             158.0             59.0            M\n",
            "2             158.0             63.0            M\n",
            "3             160.0             59.0            M\n",
            "4             160.0             60.0            M\n",
            "5             189.0              NaN            M\n",
            "6             100.0             67.0          NaN\n",
            "7             168.0             66.0            L\n",
            "8             170.0             63.0            L\n",
            "9             170.0             64.0            L\n",
            "10            200.0              NaN            M\n",
            "11            210.0             89.0          NaN\n",
            "12            163.0             60.0            M\n",
            "13            163.0             61.0            M\n",
            "14            160.0             64.0            L\n",
            "15            163.0             64.0            L\n",
            "16            165.0             61.0            L\n",
            "17            163.0              NaN          NaN\n",
            "18            165.0             61.0          NaN\n",
            "19              NaN             64.0          NaN\n",
            "20            168.0              NaN            L\n",
            "21            165.0             62.0            L\n",
            "22            165.0             65.0            L\n",
            "23            168.0             62.0            L\n",
            "24            168.0             63.0            L\n",
            "25              NaN             67.0            L\n",
            "26            210.0              NaN            M\n",
            "27              NaN             89.0            L\n",
            "28            170.0             68.0            L\n"
          ],
          "name": "stdout"
        }
      ]
    },
    {
      "cell_type": "code",
      "metadata": {
        "colab": {
          "base_uri": "https://localhost:8080/"
        },
        "id": "6WcVF6VWSZqo",
        "outputId": "72ba2f58-da4d-4fd5-c0de-aecbb2261453"
      },
      "source": [
        "df.shape"
      ],
      "execution_count": null,
      "outputs": [
        {
          "output_type": "execute_result",
          "data": {
            "text/plain": [
              "(29, 3)"
            ]
          },
          "metadata": {
            "tags": []
          },
          "execution_count": 5
        }
      ]
    },
    {
      "cell_type": "code",
      "metadata": {
        "id": "wUtaI7wISi0n"
      },
      "source": [
        "df1 = df.dropna()"
      ],
      "execution_count": null,
      "outputs": []
    },
    {
      "cell_type": "code",
      "metadata": {
        "colab": {
          "base_uri": "https://localhost:8080/"
        },
        "id": "Sx-D8eJoSxSJ",
        "outputId": "168f22d4-097e-4ece-a13b-f4e634cbcf96"
      },
      "source": [
        "print(df1)"
      ],
      "execution_count": null,
      "outputs": [
        {
          "output_type": "stream",
          "text": [
            "    Height (in cms)  Weight (in kgs) T Shirt Size\n",
            "0             158.0             58.0            M\n",
            "1             158.0             59.0            M\n",
            "2             158.0             63.0            M\n",
            "3             160.0             59.0            M\n",
            "4             160.0             60.0            M\n",
            "7             168.0             66.0            L\n",
            "8             170.0             63.0            L\n",
            "9             170.0             64.0            L\n",
            "12            163.0             60.0            M\n",
            "13            163.0             61.0            M\n",
            "14            160.0             64.0            L\n",
            "15            163.0             64.0            L\n",
            "16            165.0             61.0            L\n",
            "21            165.0             62.0            L\n",
            "22            165.0             65.0            L\n",
            "23            168.0             62.0            L\n",
            "24            168.0             63.0            L\n",
            "28            170.0             68.0            L\n"
          ],
          "name": "stdout"
        }
      ]
    },
    {
      "cell_type": "code",
      "metadata": {
        "colab": {
          "base_uri": "https://localhost:8080/"
        },
        "id": "1XlPGTYPS2ng",
        "outputId": "0107471f-e295-422d-eb78-bf153c4230aa"
      },
      "source": [
        "df2 = df.fillna(method='ffill')\n",
        "print(df2)"
      ],
      "execution_count": null,
      "outputs": [
        {
          "output_type": "stream",
          "text": [
            "    Height (in cms)  Weight (in kgs) T Shirt Size\n",
            "0             158.0             58.0            M\n",
            "1             158.0             59.0            M\n",
            "2             158.0             63.0            M\n",
            "3             160.0             59.0            M\n",
            "4             160.0             60.0            M\n",
            "5             189.0             60.0            M\n",
            "6             100.0             67.0            M\n",
            "7             168.0             66.0            L\n",
            "8             170.0             63.0            L\n",
            "9             170.0             64.0            L\n",
            "10            200.0             64.0            M\n",
            "11            210.0             89.0            M\n",
            "12            163.0             60.0            M\n",
            "13            163.0             61.0            M\n",
            "14            160.0             64.0            L\n",
            "15            163.0             64.0            L\n",
            "16            165.0             61.0            L\n",
            "17            163.0             61.0            L\n",
            "18            165.0             61.0            L\n",
            "19            165.0             64.0            L\n",
            "20            168.0             64.0            L\n",
            "21            165.0             62.0            L\n",
            "22            165.0             65.0            L\n",
            "23            168.0             62.0            L\n",
            "24            168.0             63.0            L\n",
            "25            168.0             67.0            L\n",
            "26            210.0             67.0            M\n",
            "27            210.0             89.0            L\n",
            "28            170.0             68.0            L\n"
          ],
          "name": "stdout"
        }
      ]
    },
    {
      "cell_type": "code",
      "metadata": {
        "colab": {
          "base_uri": "https://localhost:8080/"
        },
        "id": "YvUA5Dn0T7n4",
        "outputId": "70c359bb-f54f-4234-886d-a2bd0b969abf"
      },
      "source": [
        "x = df2.iloc[:,0:2].values\n",
        "y = df2.iloc[:,2].values\n",
        "print(x)\n",
        "print(y)"
      ],
      "execution_count": null,
      "outputs": [
        {
          "output_type": "stream",
          "text": [
            "[[158.  58.]\n",
            " [158.  59.]\n",
            " [158.  63.]\n",
            " [160.  59.]\n",
            " [160.  60.]\n",
            " [189.  60.]\n",
            " [100.  67.]\n",
            " [168.  66.]\n",
            " [170.  63.]\n",
            " [170.  64.]\n",
            " [200.  64.]\n",
            " [210.  89.]\n",
            " [163.  60.]\n",
            " [163.  61.]\n",
            " [160.  64.]\n",
            " [163.  64.]\n",
            " [165.  61.]\n",
            " [163.  61.]\n",
            " [165.  61.]\n",
            " [165.  64.]\n",
            " [168.  64.]\n",
            " [165.  62.]\n",
            " [165.  65.]\n",
            " [168.  62.]\n",
            " [168.  63.]\n",
            " [168.  67.]\n",
            " [210.  67.]\n",
            " [210.  89.]\n",
            " [170.  68.]]\n",
            "['M' 'M' 'M' 'M' 'M' 'M' 'M' 'L' 'L' 'L' 'M' 'M' 'M' 'M' 'L' 'L' 'L' 'L'\n",
            " 'L' 'L' 'L' 'L' 'L' 'L' 'L' 'L' 'M' 'L' 'L']\n"
          ],
          "name": "stdout"
        }
      ]
    },
    {
      "cell_type": "code",
      "metadata": {
        "colab": {
          "base_uri": "https://localhost:8080/"
        },
        "id": "0pkLbE8VVPoY",
        "outputId": "e3b5aabe-76c3-428b-d49c-286bcc56ea8e"
      },
      "source": [
        "from sklearn.preprocessing import LabelEncoder\n",
        "le = LabelEncoder()\n",
        "y_new = le.fit_transform(y)\n",
        "y = y_new\n",
        "print(y_new)"
      ],
      "execution_count": null,
      "outputs": [
        {
          "output_type": "stream",
          "text": [
            "[1 1 1 1 1 1 1 0 0 0 1 1 1 1 0 0 0 0 0 0 0 0 0 0 0 0 1 0 0]\n"
          ],
          "name": "stdout"
        }
      ]
    },
    {
      "cell_type": "code",
      "metadata": {
        "id": "f3aR3y94WYBw"
      },
      "source": [
        "from sklearn.model_selection import train_test_split\n",
        "x_train,x_test,y_train,y_test = train_test_split(x,y,test_size = 0.20,random_state= 0)"
      ],
      "execution_count": null,
      "outputs": []
    },
    {
      "cell_type": "code",
      "metadata": {
        "colab": {
          "base_uri": "https://localhost:8080/"
        },
        "id": "D9kACCk3XPYr",
        "outputId": "c38391ba-01f8-4352-cd12-7019bc463dc5"
      },
      "source": [
        "x_train.shape\n",
        "x_test.shape"
      ],
      "execution_count": null,
      "outputs": [
        {
          "output_type": "execute_result",
          "data": {
            "text/plain": [
              "(6, 2)"
            ]
          },
          "metadata": {
            "tags": []
          },
          "execution_count": 12
        }
      ]
    },
    {
      "cell_type": "code",
      "metadata": {
        "id": "oMKNhx_tXgN4"
      },
      "source": [
        "from sklearn.tree import DecisionTreeClassifier\n",
        "from sklearn.linear_model import LogisticRegression\n",
        "from sklearn.svm import SVC\n",
        "from sklearn.neighbors import KNeighborsClassifier"
      ],
      "execution_count": null,
      "outputs": []
    },
    {
      "cell_type": "code",
      "metadata": {
        "id": "n8FuPg8NYnwe"
      },
      "source": [
        "model1 = DecisionTreeClassifier(max_depth=5)\n",
        "model2 = LogisticRegression()\n",
        "model3 = SVC(kernel='rbf')\n",
        "model4 = KNeighborsClassifier(n_neighbors=6,metric='euclidean')"
      ],
      "execution_count": null,
      "outputs": []
    },
    {
      "cell_type": "code",
      "metadata": {
        "colab": {
          "base_uri": "https://localhost:8080/"
        },
        "id": "4o49zf7XaDUe",
        "outputId": "56b3817f-ffa4-4304-af7d-fc2b098ff7b2"
      },
      "source": [
        "model1.fit(x_train,y_train)"
      ],
      "execution_count": null,
      "outputs": [
        {
          "output_type": "execute_result",
          "data": {
            "text/plain": [
              "DecisionTreeClassifier(ccp_alpha=0.0, class_weight=None, criterion='gini',\n",
              "                       max_depth=5, max_features=None, max_leaf_nodes=None,\n",
              "                       min_impurity_decrease=0.0, min_impurity_split=None,\n",
              "                       min_samples_leaf=1, min_samples_split=2,\n",
              "                       min_weight_fraction_leaf=0.0, presort='deprecated',\n",
              "                       random_state=None, splitter='best')"
            ]
          },
          "metadata": {
            "tags": []
          },
          "execution_count": 15
        }
      ]
    },
    {
      "cell_type": "code",
      "metadata": {
        "colab": {
          "base_uri": "https://localhost:8080/"
        },
        "id": "tbS7nYeqajLG",
        "outputId": "ceaa6a08-e0c5-4e3c-f49d-8937ed1e1006"
      },
      "source": [
        "model2.fit(x_train,y_train)"
      ],
      "execution_count": null,
      "outputs": [
        {
          "output_type": "execute_result",
          "data": {
            "text/plain": [
              "LogisticRegression(C=1.0, class_weight=None, dual=False, fit_intercept=True,\n",
              "                   intercept_scaling=1, l1_ratio=None, max_iter=100,\n",
              "                   multi_class='auto', n_jobs=None, penalty='l2',\n",
              "                   random_state=None, solver='lbfgs', tol=0.0001, verbose=0,\n",
              "                   warm_start=False)"
            ]
          },
          "metadata": {
            "tags": []
          },
          "execution_count": 16
        }
      ]
    },
    {
      "cell_type": "code",
      "metadata": {
        "colab": {
          "base_uri": "https://localhost:8080/"
        },
        "id": "tUOJVrJca_Kx",
        "outputId": "7dc7a2a8-0e42-482d-cdd9-2c3ed98b893c"
      },
      "source": [
        "model3.fit(x_train,y_train)"
      ],
      "execution_count": null,
      "outputs": [
        {
          "output_type": "execute_result",
          "data": {
            "text/plain": [
              "SVC(C=1.0, break_ties=False, cache_size=200, class_weight=None, coef0=0.0,\n",
              "    decision_function_shape='ovr', degree=3, gamma='scale', kernel='rbf',\n",
              "    max_iter=-1, probability=False, random_state=None, shrinking=True,\n",
              "    tol=0.001, verbose=False)"
            ]
          },
          "metadata": {
            "tags": []
          },
          "execution_count": 17
        }
      ]
    },
    {
      "cell_type": "code",
      "metadata": {
        "colab": {
          "base_uri": "https://localhost:8080/"
        },
        "id": "7TUTBbQ3biIW",
        "outputId": "c7ea44c8-d573-452f-892f-30f124d25211"
      },
      "source": [
        "model4.fit(x_train,y_train)"
      ],
      "execution_count": null,
      "outputs": [
        {
          "output_type": "execute_result",
          "data": {
            "text/plain": [
              "KNeighborsClassifier(algorithm='auto', leaf_size=30, metric='euclidean',\n",
              "                     metric_params=None, n_jobs=None, n_neighbors=6, p=2,\n",
              "                     weights='uniform')"
            ]
          },
          "metadata": {
            "tags": []
          },
          "execution_count": 18
        }
      ]
    },
    {
      "cell_type": "code",
      "metadata": {
        "id": "YvuJNhoCbxFd"
      },
      "source": [
        "y_pred1 = model1.predict(x_test)\n",
        "y_pred2 = model2.predict(x_test)\n",
        "y_pred3 = model3.predict(x_test)\n",
        "y_pred4 = model4.predict(x_test)"
      ],
      "execution_count": null,
      "outputs": []
    },
    {
      "cell_type": "code",
      "metadata": {
        "colab": {
          "base_uri": "https://localhost:8080/"
        },
        "id": "mGBPxD6ncqpK",
        "outputId": "877e0833-e246-4903-9fba-39a9db23ad22"
      },
      "source": [
        "print(y_pred1)\n",
        "print(y_pred2)\n",
        "print(y_pred3)\n",
        "print(y_pred4)"
      ],
      "execution_count": null,
      "outputs": [
        {
          "output_type": "stream",
          "text": [
            "[0 0 0 0 0 0]\n",
            "[0 0 0 1 0 0]\n",
            "[0 0 0 0 0 0]\n",
            "[1 0 0 0 0 0]\n"
          ],
          "name": "stdout"
        }
      ]
    },
    {
      "cell_type": "code",
      "metadata": {
        "colab": {
          "base_uri": "https://localhost:8080/"
        },
        "id": "ocHZNXFtdcS0",
        "outputId": "1f487489-579e-43b7-c000-58d8265c535d"
      },
      "source": [
        "from sklearn.metrics import accuracy_score\n",
        "dt_acc = accuracy_score(y_test,y_pred1)\n",
        "print(dt_acc*100,'%')"
      ],
      "execution_count": null,
      "outputs": [
        {
          "output_type": "stream",
          "text": [
            "50.0 %\n"
          ],
          "name": "stdout"
        }
      ]
    },
    {
      "cell_type": "code",
      "metadata": {
        "colab": {
          "base_uri": "https://localhost:8080/"
        },
        "id": "6XSU02QrelYm",
        "outputId": "ff56047f-6956-42a7-8541-45b4eb143fc0"
      },
      "source": [
        "from sklearn.metrics import accuracy_score\n",
        "log_acc = accuracy_score(y_test,y_pred2)\n",
        "print(log_acc*100,'%')"
      ],
      "execution_count": null,
      "outputs": [
        {
          "output_type": "stream",
          "text": [
            "66.66666666666666 %\n"
          ],
          "name": "stdout"
        }
      ]
    },
    {
      "cell_type": "code",
      "metadata": {
        "colab": {
          "base_uri": "https://localhost:8080/"
        },
        "id": "buyy6A0Oeoec",
        "outputId": "3a7609a4-ec36-4372-de5b-894e92a1c2e2"
      },
      "source": [
        "from sklearn.metrics import accuracy_score\n",
        "sv_acc = accuracy_score(y_test,y_pred3)\n",
        "print(sv_acc*100,'%')"
      ],
      "execution_count": null,
      "outputs": [
        {
          "output_type": "stream",
          "text": [
            "50.0 %\n"
          ],
          "name": "stdout"
        }
      ]
    },
    {
      "cell_type": "code",
      "metadata": {
        "colab": {
          "base_uri": "https://localhost:8080/"
        },
        "id": "uo0n9FZOeqI8",
        "outputId": "b86501a3-3d9a-4d62-df16-c60ce6605366"
      },
      "source": [
        "from sklearn.metrics import accuracy_score\n",
        "knn_acc = accuracy_score(y_test,y_pred4)\n",
        "print(knn_acc*100,'%')"
      ],
      "execution_count": null,
      "outputs": [
        {
          "output_type": "stream",
          "text": [
            "66.66666666666666 %\n"
          ],
          "name": "stdout"
        }
      ]
    },
    {
      "cell_type": "code",
      "metadata": {
        "id": "yveLj4F0OjwT"
      },
      "source": [
        "from sklearn.ensemble import RandomForestClassifier\n",
        "rfc = RandomForestClassifier(n_estimators = 120,criterion='entropy',max_depth = 10)"
      ],
      "execution_count": null,
      "outputs": []
    },
    {
      "cell_type": "code",
      "metadata": {
        "colab": {
          "base_uri": "https://localhost:8080/"
        },
        "id": "qjwPtwhnSQgw",
        "outputId": "4b373582-f5bd-43ce-b75a-2c6f2306e323"
      },
      "source": [
        "rfc.fit(x_train,y_train)"
      ],
      "execution_count": null,
      "outputs": [
        {
          "output_type": "execute_result",
          "data": {
            "text/plain": [
              "RandomForestClassifier(bootstrap=True, ccp_alpha=0.0, class_weight=None,\n",
              "                       criterion='entropy', max_depth=10, max_features='auto',\n",
              "                       max_leaf_nodes=None, max_samples=None,\n",
              "                       min_impurity_decrease=0.0, min_impurity_split=None,\n",
              "                       min_samples_leaf=1, min_samples_split=2,\n",
              "                       min_weight_fraction_leaf=0.0, n_estimators=120,\n",
              "                       n_jobs=None, oob_score=False, random_state=None,\n",
              "                       verbose=0, warm_start=False)"
            ]
          },
          "metadata": {
            "tags": []
          },
          "execution_count": 28
        }
      ]
    },
    {
      "cell_type": "code",
      "metadata": {
        "id": "_q3Nxt_OTE4t"
      },
      "source": [
        "y_pred5 = rfc.predict(x_test)"
      ],
      "execution_count": null,
      "outputs": []
    },
    {
      "cell_type": "code",
      "metadata": {
        "colab": {
          "base_uri": "https://localhost:8080/"
        },
        "id": "f7XZ9b4lUp5K",
        "outputId": "52011701-e8ce-40c1-c7d4-961adaf77911"
      },
      "source": [
        "from sklearn.metrics import accuracy_score\n",
        "rfc_score = accuracy_score(y_test,y_pred5)\n",
        "print(rfc_score*100,'%')"
      ],
      "execution_count": null,
      "outputs": [
        {
          "output_type": "stream",
          "text": [
            "50.0 %\n"
          ],
          "name": "stdout"
        }
      ]
    },
    {
      "cell_type": "code",
      "metadata": {
        "id": "NVj3dawBcMg0"
      },
      "source": [
        "from sklearn.ensemble import AdaBoostClassifier\n",
        "abc = AdaBoostClassifier(n_estimators = 120,base_estimator = None,learning_rate = 1,random_state = 1)"
      ],
      "execution_count": null,
      "outputs": []
    },
    {
      "cell_type": "code",
      "metadata": {
        "colab": {
          "base_uri": "https://localhost:8080/"
        },
        "id": "9GPf1fePdoiv",
        "outputId": "e6ac4ec6-a48e-4720-9065-4cf8f79b6353"
      },
      "source": [
        "abc.fit(x_train,y_train)"
      ],
      "execution_count": null,
      "outputs": [
        {
          "output_type": "execute_result",
          "data": {
            "text/plain": [
              "AdaBoostClassifier(algorithm='SAMME.R', base_estimator=None, learning_rate=1,\n",
              "                   n_estimators=120, random_state=1)"
            ]
          },
          "metadata": {
            "tags": []
          },
          "execution_count": 38
        }
      ]
    },
    {
      "cell_type": "code",
      "metadata": {
        "id": "LEAUm_uHd6xc"
      },
      "source": [
        "y_pred6 = abc.predict(x_test)"
      ],
      "execution_count": null,
      "outputs": []
    },
    {
      "cell_type": "code",
      "metadata": {
        "colab": {
          "base_uri": "https://localhost:8080/"
        },
        "id": "IGT9OUWneVFZ",
        "outputId": "11747667-411e-46a6-8abf-9ee1cdf65b73"
      },
      "source": [
        "from sklearn.metrics import accuracy_score\n",
        "abc_score = accuracy_score(y_test,y_pred6)\n",
        "print(abc_score*100,'%')"
      ],
      "execution_count": null,
      "outputs": [
        {
          "output_type": "stream",
          "text": [
            "50.0 %\n"
          ],
          "name": "stdout"
        }
      ]
    }
  ]
}